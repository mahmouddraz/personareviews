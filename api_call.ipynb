{
 "cells": [
  {
   "cell_type": "code",
   "execution_count": 1,
   "metadata": {},
   "outputs": [],
   "source": [
    "from dotenv import load_dotenv\n",
    "import os\n",
    "\n",
    "load_dotenv()"
   ]
  },
  {
   "cell_type": "code",
   "execution_count": null,
   "metadata": {},
   "outputs": [],
   "source": [
    "PLACE_ID= \"ChIJMRf7YNBRqEcR1mUQLhrJtss\"\n",
    "API_KEY=os.getenv(\"GOOGLE_API_KEY\")"
   ]
  },
  {
   "cell_type": "code",
   "execution_count": 6,
   "metadata": {},
   "outputs": [
    {
     "name": "stdout",
     "output_type": "stream",
     "text": [
      "📍 Starbucks (⭐ 3.9)\n",
      "\n",
      "📝 Reviews:\n",
      "\n",
      "👉 Don Pokocha (⭐ 4)\n",
      "Conveniently located, just in front of Stadtmitte underground station. Tasted as good as other branches. But there were quite a few customers and it was hard to get a table.\n",
      "----------------------------------------\n",
      "👉 Ainhoa 17 (⭐ 1)\n",
      "I came here with my family, and the staff was very rude. We only asked what time they close, but both workers at the counter were unfriendly and insisted we take our order to go because they didn’t want to run the dishwasher. Additionally, while the staff was dancing and laughing, the place was dirty. Poor service. As someone who works in a customer-facing role, I don’t think this is the way customers should be treated. We visited on 9/11/2024 at 19:30\n",
      "----------------------------------------\n",
      "👉 Thiya Damayanti (⭐ 4)\n",
      "They are so friendly but could you at least clean the table or the corner of the sofa maybe, because it’s so dusty and super dirty.\n",
      "----------------------------------------\n",
      "👉 Niklas Schaefer (⭐ 1)\n",
      "With that level of pricing, I would at least expect a little cleanness but most of all staff that doesn’t make you feel like you are disturbing their private talks - been there twice and both times showing “attitude”. No, thanks!\n",
      "----------------------------------------\n",
      "👉 pluto mushshroom (⭐ 5)\n",
      "I was there with a few friends and besides the muffins being a little dry we had a good time. The person at the register recommend us some drinks that all of us liked and the sandwichs were also very nice. Overall it was very comfortable and clean with friendly and helpful staff.\n",
      "----------------------------------------\n"
     ]
    }
   ],
   "source": [
    "from googleapiclient.discovery import build\n",
    "import requests\n",
    "# !gcloud auth application-default login\n",
    "\n",
    "\n",
    "# Define the API endpoint\n",
    "url = f\"https://maps.googleapis.com/maps/api/place/details/json?place_id={PLACE_ID}&fields=name,rating,reviews&key={API_KEY}\"\n",
    "\n",
    "# Make the request using Google SDK's `build` function (alternative to requests)\n",
    "service = build(\"customsearch\", \"v1\", developerKey=API_KEY)  # This is just an example service\n",
    "\n",
    "response = requests.get(url)\n",
    "data = response.json()\n",
    "\n",
    "# Extract and display reviews\n",
    "if \"result\" in data:\n",
    "    restaurant_name = data[\"result\"].get(\"name\", \"Unknown\")\n",
    "    rating = data[\"result\"].get(\"rating\", \"No Rating\")\n",
    "    reviews = data[\"result\"].get(\"reviews\", [])\n",
    "    # paymentOptions = data[\"result\"].get(\"paymentOptions\")\n",
    "\n",
    "    print(f\"📍 {restaurant_name} (⭐ {rating})\")\n",
    "    print(\"\\n📝 Reviews:\\n\")\n",
    "\n",
    "    for review in reviews:\n",
    "        author = review.get(\"author_name\", \"Anonymous\")\n",
    "        rating = review.get(\"rating\", \"No Rating\")\n",
    "        text = review.get(\"text\", \"No review text\")\n",
    "        print(f\"👉 {author} (⭐ {rating})\\n{text}\\n{'-'*40}\")\n",
    "else:\n",
    "    print(\"❌ Error fetching reviews!\")\n"
   ]
  },
  {
   "cell_type": "code",
   "execution_count": 7,
   "metadata": {},
   "outputs": [
    {
     "ename": "FileNotFoundError",
     "evalue": "[Errno 2] No such file or directory: 'placesResults.json'",
     "output_type": "error",
     "traceback": [
      "\u001b[31m---------------------------------------------------------------------------\u001b[39m",
      "\u001b[31mFileNotFoundError\u001b[39m                         Traceback (most recent call last)",
      "\u001b[36mCell\u001b[39m\u001b[36m \u001b[39m\u001b[32mIn[7]\u001b[39m\u001b[32m, line 5\u001b[39m\n\u001b[32m      2\u001b[39m \u001b[38;5;28;01mimport\u001b[39;00m\u001b[38;5;250m \u001b[39m\u001b[34;01mjson\u001b[39;00m\n\u001b[32m      4\u001b[39m \u001b[38;5;66;03m# Load the JSON data\u001b[39;00m\n\u001b[32m----> \u001b[39m\u001b[32m5\u001b[39m \u001b[38;5;28;01mwith\u001b[39;00m \u001b[38;5;28;43mopen\u001b[39;49m\u001b[43m(\u001b[49m\u001b[33;43m'\u001b[39;49m\u001b[33;43mplacesResults.json\u001b[39;49m\u001b[33;43m'\u001b[39;49m\u001b[43m,\u001b[49m\u001b[43m \u001b[49m\u001b[33;43m'\u001b[39;49m\u001b[33;43mr\u001b[39;49m\u001b[33;43m'\u001b[39;49m\u001b[43m)\u001b[49m \u001b[38;5;28;01mas\u001b[39;00m f:\n\u001b[32m      6\u001b[39m     places_data = json.load(f)\n\u001b[32m      8\u001b[39m \u001b[38;5;66;03m# Convert the JSON data into a pandas DataFrame\u001b[39;00m\n",
      "\u001b[36mFile \u001b[39m\u001b[32m~/Projects/bliss/mody/env/lib/python3.12/site-packages/IPython/core/interactiveshell.py:325\u001b[39m, in \u001b[36m_modified_open\u001b[39m\u001b[34m(file, *args, **kwargs)\u001b[39m\n\u001b[32m    318\u001b[39m \u001b[38;5;28;01mif\u001b[39;00m file \u001b[38;5;129;01min\u001b[39;00m {\u001b[32m0\u001b[39m, \u001b[32m1\u001b[39m, \u001b[32m2\u001b[39m}:\n\u001b[32m    319\u001b[39m     \u001b[38;5;28;01mraise\u001b[39;00m \u001b[38;5;167;01mValueError\u001b[39;00m(\n\u001b[32m    320\u001b[39m         \u001b[33mf\u001b[39m\u001b[33m\"\u001b[39m\u001b[33mIPython won\u001b[39m\u001b[33m'\u001b[39m\u001b[33mt let you open fd=\u001b[39m\u001b[38;5;132;01m{\u001b[39;00mfile\u001b[38;5;132;01m}\u001b[39;00m\u001b[33m by default \u001b[39m\u001b[33m\"\u001b[39m\n\u001b[32m    321\u001b[39m         \u001b[33m\"\u001b[39m\u001b[33mas it is likely to crash IPython. If you know what you are doing, \u001b[39m\u001b[33m\"\u001b[39m\n\u001b[32m    322\u001b[39m         \u001b[33m\"\u001b[39m\u001b[33myou can use builtins\u001b[39m\u001b[33m'\u001b[39m\u001b[33m open.\u001b[39m\u001b[33m\"\u001b[39m\n\u001b[32m    323\u001b[39m     )\n\u001b[32m--> \u001b[39m\u001b[32m325\u001b[39m \u001b[38;5;28;01mreturn\u001b[39;00m \u001b[43mio_open\u001b[49m\u001b[43m(\u001b[49m\u001b[43mfile\u001b[49m\u001b[43m,\u001b[49m\u001b[43m \u001b[49m\u001b[43m*\u001b[49m\u001b[43margs\u001b[49m\u001b[43m,\u001b[49m\u001b[43m \u001b[49m\u001b[43m*\u001b[49m\u001b[43m*\u001b[49m\u001b[43mkwargs\u001b[49m\u001b[43m)\u001b[49m\n",
      "\u001b[31mFileNotFoundError\u001b[39m: [Errno 2] No such file or directory: 'placesResults.json'"
     ]
    }
   ],
   "source": [
    "import pandas as pd\n",
    "import json\n",
    "\n",
    "# Load the JSON data\n",
    "with open('placesResults.json', 'r') as f:\n",
    "    places_data = json.load(f)\n",
    "\n",
    "# Convert the JSON data into a pandas DataFrame\n",
    "df = pd.json_normalize(places_data)\n",
    "\n",
    "# Show the DataFrame\n",
    "# df.head()\n",
    "df"
   ]
  }
 ],
 "metadata": {
  "kernelspec": {
   "display_name": "gcp-hackathon",
   "language": "python",
   "name": "python3"
  },
  "language_info": {
   "codemirror_mode": {
    "name": "ipython",
    "version": 3
   },
   "file_extension": ".py",
   "mimetype": "text/x-python",
   "name": "python",
   "nbconvert_exporter": "python",
   "pygments_lexer": "ipython3",
   "version": "3.12.9"
  }
 },
 "nbformat": 4,
 "nbformat_minor": 2
}
